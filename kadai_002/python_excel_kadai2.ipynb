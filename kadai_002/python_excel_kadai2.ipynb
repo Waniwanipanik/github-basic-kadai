{
  "nbformat": 4,
  "nbformat_minor": 0,
  "metadata": {
    "colab": {
      "provenance": []
    },
    "kernelspec": {
      "name": "python3",
      "display_name": "Python 3"
    },
    "language_info": {
      "name": "python"
    }
  },
  "cells": [
    {
      "cell_type": "code",
      "execution_count": 1,
      "metadata": {
        "colab": {
          "base_uri": "https://localhost:8080/"
        },
        "id": "gvWPL9EFm4oo",
        "outputId": "3e773798-6ce5-438a-8098-2c6006910243"
      },
      "outputs": [
        {
          "output_type": "stream",
          "name": "stdout",
          "text": [
            "Requirement already satisfied: openpyxl in /usr/local/lib/python3.11/dist-packages (3.1.5)\n",
            "Requirement already satisfied: et-xmlfile in /usr/local/lib/python3.11/dist-packages (from openpyxl) (2.0.0)\n"
          ]
        }
      ],
      "source": [
        "!pip install openpyxl"
      ]
    },
    {
      "cell_type": "code",
      "source": [
        "import pandas as pd\n",
        "\n",
        "# データフレームの作成\n",
        "df = pd.DataFrame({\n",
        "    '日付':\n",
        "      ['2023-05-17', '2023-05-18', '2023-05-19', '2023-05-20', '2023-05-21'],\n",
        "    '社員名': ['山田', '佐藤', '鈴木', '田中', '高橋'],\n",
        "    '売上': [100, 200, 150, 300, 250],\n",
        "    '部門': ['メーカー', '代理店', 'メーカー', '商社', '代理店'],\n",
        "})\n",
        "# 売上レベルの平均を求めて新しい列を作成\n",
        "df['平均売上'] = df['売上'].mean()\n",
        "# 優先レベルで分岐して緊急度を求める関数「prioritize」を定義\n",
        "def prioritize(level):\n",
        "  result = '';\n",
        "  if level >= 250:\n",
        "    result = 'A';\n",
        "  elif level == 200:\n",
        "    result = 'B';\n",
        "  else:\n",
        "    result = 'C';\n",
        "  return result\n",
        "\n",
        "# 「緊急度」列を作成し、関数「prioritize」を適用して値を設定\n",
        "df['業績ランク'] = df['売上'].apply(prioritize)\n",
        "\n",
        "# Excelファイルを作成\n",
        "writer = pd.ExcelWriter('業績.xlsx')\n",
        "\n",
        "# DataFrameオブジェクトをExcelファイルに書き込む\n",
        "df.to_excel(writer, sheet_name='Sheet1', index=False)\n",
        "\n",
        "# Excelファイルを閉じる\n",
        "writer.close()\n",
        "\n",
        "\n"
      ],
      "metadata": {
        "id": "IQs6LaqNoGye"
      },
      "execution_count": 2,
      "outputs": []
    }
  ]
}